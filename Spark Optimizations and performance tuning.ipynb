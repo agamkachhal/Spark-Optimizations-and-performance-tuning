{
 "cells": [
  {
   "cell_type": "code",
   "execution_count": 1,
   "id": "864834f4",
   "metadata": {},
   "outputs": [],
   "source": [
    "# Creating a spark session\n",
    "\n",
    "from pyspark.sql import SparkSession\n",
    "import getpass\n",
    "username = getpass.getuser()\n",
    "spark = SparkSession. \\\n",
    "builder. \\\n",
    "config('spark.ui.port', '0'). \\\n",
    "config('spark.shuffle.useOldFetchProtocol', 'true'). \\\n",
    "config(\"spark.sql.warehouse.dir\", f\"/user/{username}/warehouse\"). \\\n",
    "enableHiveSupport(). \\\n",
    "master('yarn'). \\\n",
    "getOrCreate()"
   ]
  },
  {
   "cell_type": "code",
   "execution_count": 2,
   "id": "d34e3acb",
   "metadata": {},
   "outputs": [],
   "source": [
    "# In this scenario, I am reading a orders table and therefore, defining the schema for columns in orders table\n",
    "\n",
    "orders_schema = \"order_id long , order_date string, customer_id long,order_status string\""
   ]
  },
  {
   "cell_type": "code",
   "execution_count": 3,
   "id": "5a9748fd",
   "metadata": {},
   "outputs": [],
   "source": [
    "# Reading the orders data from the base HDFS location\n",
    "\n",
    "orders_df = spark.read \\\n",
    ".format(\"csv\") \\\n",
    ".schema(orders_schema) \\\n",
    ".load(\"/public/trendytech/orders/orders_1gb.csv\")"
   ]
  },
  {
   "cell_type": "code",
   "execution_count": 4,
   "id": "e0802e73",
   "metadata": {},
   "outputs": [
    {
     "data": {
      "text/plain": [
       "9"
      ]
     },
     "execution_count": 4,
     "metadata": {},
     "output_type": "execute_result"
    }
   ],
   "source": [
    "# The file size is slightly over 1.1 GB so no. of partitions are shown as 9 considering the default HDFS block size of 128mb\n",
    "\n",
    "orders_df.rdd.getNumPartitions()"
   ]
  },
  {
   "cell_type": "code",
   "execution_count": 5,
   "id": "7a9ba8e4",
   "metadata": {},
   "outputs": [],
   "source": [
    "# Performing a groupBy on the column 'order_status' and writing the results back to HDFS location via the spark writer API\n",
    "\n",
    "orders_df.groupBy(\"order_status\").count().write.format(\"csv\").mode(\"overwrite\").save(\"/user/itv011181/output_groupBy\")"
   ]
  },
  {
   "cell_type": "markdown",
   "id": "daf5b7a8",
   "metadata": {},
   "source": [
    "<img src=\"https://g02.itversity.com/user/itv011181/files/groupBy.PNG?_xsrf=2%7Ccd202b1a%7Cd5996c4dd821676c9ea1363ad30da50f%7C1709430837\" alt=\"My Image\" width=\"600\">"
   ]
  },
  {
   "cell_type": "markdown",
   "id": "5da670e6",
   "metadata": {},
   "source": [
    "`Note: By having a look at the above DAG (Directed Acyclic grpah), we can see that there are 2 stages created as groupBy is a wide transformation and there will be 200 shuffle partitions created by default`"
   ]
  },
  {
   "cell_type": "markdown",
   "id": "549f3a35",
   "metadata": {},
   "source": [
    ![My Image](https://g02.itversity.com/user/itv011181/files/HDFS.PNG?_xsrf=2%7Ccd202b1a%7Cd5996c4dd821676c9ea1363ad30da50f%7C1709430837)
   ]
  },
  {
   "cell_type": "markdown",
   "id": "3e504baf",
   "metadata": {},
   "source": [
    "`Note: There are 9 unique order statuses in our data and that's the reason we will see 9 files (with data) in our HDFS where the output was written back to disk. due to some issue, the part file named part-00000 is showing up blank which shouldnt be there.`\n",
    "\n",
    "#### Because there is shuffling involved due to wide transformation, we can see 200 partitions created by default and 200 tasks launched in our Spark UI for this job"
   ]
  },
  {
   "cell_type": "markdown",
   "id": "6bba53fa",
   "metadata": {},
   "source": [
    "<img src=\"https://g02.itversity.com/user/itv011181/files/200%20partitions.PNG?_xsrf=2%7Ccd202b1a%7Cd5996c4dd821676c9ea1363ad30da50f%7C1709430837\" alt=\"My Image\" width=\"1200\">"
   ]
  },
  {
   "cell_type": "code",
   "execution_count": 6,
   "id": "353a3de2",
   "metadata": {},
   "outputs": [],
   "source": [
    "# Creating a managed spark table from the orders dataframe\n",
    "\n",
    "orders_df.createOrReplaceTempView(\"orders\")"
   ]
  },
  {
   "cell_type": "code",
   "execution_count": 7,
   "id": "5d28acca",
   "metadata": {},
   "outputs": [
    {
     "data": {
      "text/html": [
       "<table border='1'>\n",
       "<tr><th>order_status</th><th>total_records</th></tr>\n",
       "<tr><td>PENDING_PAYMENT</td><td>5636250</td></tr>\n",
       "<tr><td>COMPLETE</td><td>8587125</td></tr>\n",
       "<tr><td>ON_HOLD</td><td>1424250</td></tr>\n",
       "<tr><td>PAYMENT_REVIEW</td><td>273375</td></tr>\n",
       "<tr><td>PROCESSING</td><td>3103125</td></tr>\n",
       "<tr><td>CLOSED</td><td>2833500</td></tr>\n",
       "<tr><td>SUSPECTED_FRAUD</td><td>584250</td></tr>\n",
       "<tr><td>PENDING</td><td>2853750</td></tr>\n",
       "<tr><td>CANCELED</td><td>535500</td></tr>\n",
       "</table>\n"
      ],
      "text/plain": [
       "+---------------+-------------+\n",
       "|   order_status|total_records|\n",
       "+---------------+-------------+\n",
       "|PENDING_PAYMENT|      5636250|\n",
       "|       COMPLETE|      8587125|\n",
       "|        ON_HOLD|      1424250|\n",
       "| PAYMENT_REVIEW|       273375|\n",
       "|     PROCESSING|      3103125|\n",
       "|         CLOSED|      2833500|\n",
       "|SUSPECTED_FRAUD|       584250|\n",
       "|        PENDING|      2853750|\n",
       "|       CANCELED|       535500|\n",
       "+---------------+-------------+"
      ]
     },
     "execution_count": 7,
     "metadata": {},
     "output_type": "execute_result"
    }
   ],
   "source": [
    "# Checking how many distinct order statuses are present in our dataframe/table\n",
    "\n",
    "spark.sql(\"\"\"select order_status, count(*) as total_records from orders\n",
    "            group by order_status\"\"\")"
   ]
  },
  {
   "cell_type": "markdown",
   "id": "b8bea6f3",
   "metadata": {},
   "source": [
    "### Now, we will be dealing with types of joins as below:\n",
    "\n",
    "- broadcast join\n",
    "- inner join\n",
    "- left outer\n",
    "- right outer\n",
    "- full outer\n",
    "\n",
    "`In order to perform join operations, I will load another dataset from HDFS location named 'customers' `"
   ]
  },
  {
   "cell_type": "code",
   "execution_count": 8,
   "id": "31fbb492",
   "metadata": {},
   "outputs": [],
   "source": [
    "# Defining the schema for our customer table\n",
    "\n",
    "customer_schema = \"customerid long , customer_fname string , customer_lname string , user_name string,password string , address string, city string, state string, pincode long\""
   ]
  },
  {
   "cell_type": "code",
   "execution_count": 9,
   "id": "a8d4ced4",
   "metadata": {},
   "outputs": [],
   "source": [
    "# Reading the customers table data from HDFS\n",
    "\n",
    "customers_df = spark.read \\\n",
    ".format(\"csv\") \\\n",
    ".schema(customer_schema) \\\n",
    ".load(\"/public/trendytech/retail_db/customers\")"
   ]
  },
  {
   "cell_type": "code",
   "execution_count": 10,
   "id": "494b58bb",
   "metadata": {},
   "outputs": [
    {
     "name": "stdout",
     "output_type": "stream",
     "text": [
      "+----------+--------------+--------------+---------+---------+---------------------------+-------------+-----+-------+\n",
      "|customerid|customer_fname|customer_lname|user_name|password |address                    |city         |state|pincode|\n",
      "+----------+--------------+--------------+---------+---------+---------------------------+-------------+-----+-------+\n",
      "|1         |Richard       |Hernandez     |XXXXXXXXX|XXXXXXXXX|6303 Heather Plaza         |Brownsville  |TX   |78521  |\n",
      "|2         |Mary          |Barrett       |XXXXXXXXX|XXXXXXXXX|9526 Noble Embers Ridge    |Littleton    |CO   |80126  |\n",
      "|3         |Ann           |Smith         |XXXXXXXXX|XXXXXXXXX|3422 Blue Pioneer Bend     |Caguas       |PR   |725    |\n",
      "|4         |Mary          |Jones         |XXXXXXXXX|XXXXXXXXX|8324 Little Common         |San Marcos   |CA   |92069  |\n",
      "|5         |Robert        |Hudson        |XXXXXXXXX|XXXXXXXXX|10 Crystal River Mall      |Caguas       |PR   |725    |\n",
      "|6         |Mary          |Smith         |XXXXXXXXX|XXXXXXXXX|3151 Sleepy Quail Promenade|Passaic      |NJ   |7055   |\n",
      "|7         |Melissa       |Wilcox        |XXXXXXXXX|XXXXXXXXX|9453 High Concession       |Caguas       |PR   |725    |\n",
      "|8         |Megan         |Smith         |XXXXXXXXX|XXXXXXXXX|3047 Foggy Forest Plaza    |Lawrence     |MA   |1841   |\n",
      "|9         |Mary          |Perez         |XXXXXXXXX|XXXXXXXXX|3616 Quaking Street        |Caguas       |PR   |725    |\n",
      "|10        |Melissa       |Smith         |XXXXXXXXX|XXXXXXXXX|8598 Harvest Beacon Plaza  |Stafford     |VA   |22554  |\n",
      "|11        |Mary          |Huffman       |XXXXXXXXX|XXXXXXXXX|3169 Stony Woods           |Caguas       |PR   |725    |\n",
      "|12        |Christopher   |Smith         |XXXXXXXXX|XXXXXXXXX|5594 Jagged Embers By-pass |San Antonio  |TX   |78227  |\n",
      "|13        |Mary          |Baldwin       |XXXXXXXXX|XXXXXXXXX|7922 Iron Oak Gardens      |Caguas       |PR   |725    |\n",
      "|14        |Katherine     |Smith         |XXXXXXXXX|XXXXXXXXX|5666 Hazy Pony Square      |Pico Rivera  |CA   |90660  |\n",
      "|15        |Jane          |Luna          |XXXXXXXXX|XXXXXXXXX|673 Burning Glen           |Fontana      |CA   |92336  |\n",
      "|16        |Tiffany       |Smith         |XXXXXXXXX|XXXXXXXXX|6651 Iron Port             |Caguas       |PR   |725    |\n",
      "|17        |Mary          |Robinson      |XXXXXXXXX|XXXXXXXXX|1325 Noble Pike            |Taylor       |MI   |48180  |\n",
      "|18        |Robert        |Smith         |XXXXXXXXX|XXXXXXXXX|2734 Hazy Butterfly Circle |Martinez     |CA   |94553  |\n",
      "|19        |Stephanie     |Mitchell      |XXXXXXXXX|XXXXXXXXX|3543 Red Treasure Bay      |Caguas       |PR   |725    |\n",
      "|20        |Mary          |Ellis         |XXXXXXXXX|XXXXXXXXX|4703 Old Route             |West New York|NJ   |7093   |\n",
      "+----------+--------------+--------------+---------+---------+---------------------------+-------------+-----+-------+\n",
      "only showing top 20 rows\n",
      "\n"
     ]
    }
   ],
   "source": [
    "customers_df.show(truncate=False)"
   ]
  },
  {
   "cell_type": "markdown",
   "id": "79e97d96",
   "metadata": {},
   "source": [
    "##### Customers data is a small table with only 1MB in size but orders table is a big table with size of close to 1.1GB.\n",
    "\n",
    "`Note: Since one of the dataframe/table (customers in this case) is small enough to fit into the driver memory, broadcast join will happen in this case by default as the autoBroadcastJoinThreshold in spark is by default set to 10MB but it is configurable. Since our customers table is of size < 10MB, broadcast join will trigger will default.`\n",
    "\n",
    "#### I will showcase two different scenarios here:\n",
    "\n",
    "- 1st without broadcast join\n",
    "- 2nd with broadcast join"
   ]
  },
  {
   "cell_type": "code",
   "execution_count": 11,
   "id": "9ec202bb",
   "metadata": {},
   "outputs": [],
   "source": [
    "# Creating a managed spark table for customer dataframe loaded above\n",
    "\n",
    "customers_df.createOrReplaceTempView(\"customers\")"
   ]
  },
  {
   "cell_type": "code",
   "execution_count": 12,
   "id": "865b02bf",
   "metadata": {},
   "outputs": [],
   "source": [
    "# In order to show the 1st condition without broadcast join, I will turn off the broadcast join default configuration\n",
    "\n",
    "spark.conf.set(\"spark.sql.autoBroadcastJoinThreshold\", \"-1\")"
   ]
  },
  {
   "cell_type": "code",
   "execution_count": 13,
   "id": "38e0fd28",
   "metadata": {},
   "outputs": [
    {
     "data": {
      "text/html": [
       "<table border='1'>\n",
       "<tr><th>order_id</th><th>order_date</th><th>customer_id</th><th>order_status</th><th>customerid</th><th>customer_fname</th><th>customer_lname</th><th>user_name</th><th>password</th><th>address</th><th>city</th><th>state</th><th>pincode</th></tr>\n",
       "<tr><td>21730</td><td>2013-12-05 00:00:...</td><td>26</td><td>CLOSED</td><td>26</td><td>Johnny</td><td>Hood</td><td>XXXXXXXXX</td><td>XXXXXXXXX</td><td>9576 Middle Hills...</td><td>Glenview</td><td>IL</td><td>60025</td></tr>\n",
       "<tr><td>26441</td><td>2014-01-05 00:00:...</td><td>26</td><td>COMPLETE</td><td>26</td><td>Johnny</td><td>Hood</td><td>XXXXXXXXX</td><td>XXXXXXXXX</td><td>9576 Middle Hills...</td><td>Glenview</td><td>IL</td><td>60025</td></tr>\n",
       "<tr><td>30480</td><td>2014-01-30 00:00:...</td><td>26</td><td>PENDING</td><td>26</td><td>Johnny</td><td>Hood</td><td>XXXXXXXXX</td><td>XXXXXXXXX</td><td>9576 Middle Hills...</td><td>Glenview</td><td>IL</td><td>60025</td></tr>\n",
       "<tr><td>34653</td><td>2014-02-23 00:00:...</td><td>26</td><td>COMPLETE</td><td>26</td><td>Johnny</td><td>Hood</td><td>XXXXXXXXX</td><td>XXXXXXXXX</td><td>9576 Middle Hills...</td><td>Glenview</td><td>IL</td><td>60025</td></tr>\n",
       "<tr><td>64185</td><td>2014-03-28 00:00:...</td><td>26</td><td>PENDING</td><td>26</td><td>Johnny</td><td>Hood</td><td>XXXXXXXXX</td><td>XXXXXXXXX</td><td>9576 Middle Hills...</td><td>Glenview</td><td>IL</td><td>60025</td></tr>\n",
       "<tr><td>21730</td><td>2013-12-05 00:00:...</td><td>26</td><td>CLOSED</td><td>26</td><td>Johnny</td><td>Hood</td><td>XXXXXXXXX</td><td>XXXXXXXXX</td><td>9576 Middle Hills...</td><td>Glenview</td><td>IL</td><td>60025</td></tr>\n",
       "<tr><td>26441</td><td>2014-01-05 00:00:...</td><td>26</td><td>COMPLETE</td><td>26</td><td>Johnny</td><td>Hood</td><td>XXXXXXXXX</td><td>XXXXXXXXX</td><td>9576 Middle Hills...</td><td>Glenview</td><td>IL</td><td>60025</td></tr>\n",
       "<tr><td>30480</td><td>2014-01-30 00:00:...</td><td>26</td><td>PENDING</td><td>26</td><td>Johnny</td><td>Hood</td><td>XXXXXXXXX</td><td>XXXXXXXXX</td><td>9576 Middle Hills...</td><td>Glenview</td><td>IL</td><td>60025</td></tr>\n",
       "<tr><td>34653</td><td>2014-02-23 00:00:...</td><td>26</td><td>COMPLETE</td><td>26</td><td>Johnny</td><td>Hood</td><td>XXXXXXXXX</td><td>XXXXXXXXX</td><td>9576 Middle Hills...</td><td>Glenview</td><td>IL</td><td>60025</td></tr>\n",
       "<tr><td>64185</td><td>2014-03-28 00:00:...</td><td>26</td><td>PENDING</td><td>26</td><td>Johnny</td><td>Hood</td><td>XXXXXXXXX</td><td>XXXXXXXXX</td><td>9576 Middle Hills...</td><td>Glenview</td><td>IL</td><td>60025</td></tr>\n",
       "<tr><td>21730</td><td>2013-12-05 00:00:...</td><td>26</td><td>CLOSED</td><td>26</td><td>Johnny</td><td>Hood</td><td>XXXXXXXXX</td><td>XXXXXXXXX</td><td>9576 Middle Hills...</td><td>Glenview</td><td>IL</td><td>60025</td></tr>\n",
       "<tr><td>26441</td><td>2014-01-05 00:00:...</td><td>26</td><td>COMPLETE</td><td>26</td><td>Johnny</td><td>Hood</td><td>XXXXXXXXX</td><td>XXXXXXXXX</td><td>9576 Middle Hills...</td><td>Glenview</td><td>IL</td><td>60025</td></tr>\n",
       "<tr><td>30480</td><td>2014-01-30 00:00:...</td><td>26</td><td>PENDING</td><td>26</td><td>Johnny</td><td>Hood</td><td>XXXXXXXXX</td><td>XXXXXXXXX</td><td>9576 Middle Hills...</td><td>Glenview</td><td>IL</td><td>60025</td></tr>\n",
       "<tr><td>34653</td><td>2014-02-23 00:00:...</td><td>26</td><td>COMPLETE</td><td>26</td><td>Johnny</td><td>Hood</td><td>XXXXXXXXX</td><td>XXXXXXXXX</td><td>9576 Middle Hills...</td><td>Glenview</td><td>IL</td><td>60025</td></tr>\n",
       "<tr><td>64185</td><td>2014-03-28 00:00:...</td><td>26</td><td>PENDING</td><td>26</td><td>Johnny</td><td>Hood</td><td>XXXXXXXXX</td><td>XXXXXXXXX</td><td>9576 Middle Hills...</td><td>Glenview</td><td>IL</td><td>60025</td></tr>\n",
       "<tr><td>21730</td><td>2013-12-05 00:00:...</td><td>26</td><td>CLOSED</td><td>26</td><td>Johnny</td><td>Hood</td><td>XXXXXXXXX</td><td>XXXXXXXXX</td><td>9576 Middle Hills...</td><td>Glenview</td><td>IL</td><td>60025</td></tr>\n",
       "<tr><td>26441</td><td>2014-01-05 00:00:...</td><td>26</td><td>COMPLETE</td><td>26</td><td>Johnny</td><td>Hood</td><td>XXXXXXXXX</td><td>XXXXXXXXX</td><td>9576 Middle Hills...</td><td>Glenview</td><td>IL</td><td>60025</td></tr>\n",
       "<tr><td>30480</td><td>2014-01-30 00:00:...</td><td>26</td><td>PENDING</td><td>26</td><td>Johnny</td><td>Hood</td><td>XXXXXXXXX</td><td>XXXXXXXXX</td><td>9576 Middle Hills...</td><td>Glenview</td><td>IL</td><td>60025</td></tr>\n",
       "<tr><td>34653</td><td>2014-02-23 00:00:...</td><td>26</td><td>COMPLETE</td><td>26</td><td>Johnny</td><td>Hood</td><td>XXXXXXXXX</td><td>XXXXXXXXX</td><td>9576 Middle Hills...</td><td>Glenview</td><td>IL</td><td>60025</td></tr>\n",
       "<tr><td>64185</td><td>2014-03-28 00:00:...</td><td>26</td><td>PENDING</td><td>26</td><td>Johnny</td><td>Hood</td><td>XXXXXXXXX</td><td>XXXXXXXXX</td><td>9576 Middle Hills...</td><td>Glenview</td><td>IL</td><td>60025</td></tr>\n",
       "</table>\n",
       "only showing top 20 rows\n"
      ],
      "text/plain": [
       "+--------+--------------------+-----------+------------+----------+--------------+--------------+---------+---------+--------------------+--------+-----+-------+\n",
       "|order_id|          order_date|customer_id|order_status|customerid|customer_fname|customer_lname|user_name| password|             address|    city|state|pincode|\n",
       "+--------+--------------------+-----------+------------+----------+--------------+--------------+---------+---------+--------------------+--------+-----+-------+\n",
       "|   64185|2014-03-28 00:00:...|         26|     PENDING|        26|        Johnny|          Hood|XXXXXXXXX|XXXXXXXXX|9576 Middle Hills...|Glenview|   IL|  60025|\n",
       "|   21730|2013-12-05 00:00:...|         26|      CLOSED|        26|        Johnny|          Hood|XXXXXXXXX|XXXXXXXXX|9576 Middle Hills...|Glenview|   IL|  60025|\n",
       "|   26441|2014-01-05 00:00:...|         26|    COMPLETE|        26|        Johnny|          Hood|XXXXXXXXX|XXXXXXXXX|9576 Middle Hills...|Glenview|   IL|  60025|\n",
       "|   30480|2014-01-30 00:00:...|         26|     PENDING|        26|        Johnny|          Hood|XXXXXXXXX|XXXXXXXXX|9576 Middle Hills...|Glenview|   IL|  60025|\n",
       "|   34653|2014-02-23 00:00:...|         26|    COMPLETE|        26|        Johnny|          Hood|XXXXXXXXX|XXXXXXXXX|9576 Middle Hills...|Glenview|   IL|  60025|\n",
       "|   64185|2014-03-28 00:00:...|         26|     PENDING|        26|        Johnny|          Hood|XXXXXXXXX|XXXXXXXXX|9576 Middle Hills...|Glenview|   IL|  60025|\n",
       "|   21730|2013-12-05 00:00:...|         26|      CLOSED|        26|        Johnny|          Hood|XXXXXXXXX|XXXXXXXXX|9576 Middle Hills...|Glenview|   IL|  60025|\n",
       "|   26441|2014-01-05 00:00:...|         26|    COMPLETE|        26|        Johnny|          Hood|XXXXXXXXX|XXXXXXXXX|9576 Middle Hills...|Glenview|   IL|  60025|\n",
       "|   30480|2014-01-30 00:00:...|         26|     PENDING|        26|        Johnny|          Hood|XXXXXXXXX|XXXXXXXXX|9576 Middle Hills...|Glenview|   IL|  60025|\n",
       "|   34653|2014-02-23 00:00:...|         26|    COMPLETE|        26|        Johnny|          Hood|XXXXXXXXX|XXXXXXXXX|9576 Middle Hills...|Glenview|   IL|  60025|\n",
       "|   64185|2014-03-28 00:00:...|         26|     PENDING|        26|        Johnny|          Hood|XXXXXXXXX|XXXXXXXXX|9576 Middle Hills...|Glenview|   IL|  60025|\n",
       "|   21730|2013-12-05 00:00:...|         26|      CLOSED|        26|        Johnny|          Hood|XXXXXXXXX|XXXXXXXXX|9576 Middle Hills...|Glenview|   IL|  60025|\n",
       "|   26441|2014-01-05 00:00:...|         26|    COMPLETE|        26|        Johnny|          Hood|XXXXXXXXX|XXXXXXXXX|9576 Middle Hills...|Glenview|   IL|  60025|\n",
       "|   30480|2014-01-30 00:00:...|         26|     PENDING|        26|        Johnny|          Hood|XXXXXXXXX|XXXXXXXXX|9576 Middle Hills...|Glenview|   IL|  60025|\n",
       "|   34653|2014-02-23 00:00:...|         26|    COMPLETE|        26|        Johnny|          Hood|XXXXXXXXX|XXXXXXXXX|9576 Middle Hills...|Glenview|   IL|  60025|\n",
       "|   64185|2014-03-28 00:00:...|         26|     PENDING|        26|        Johnny|          Hood|XXXXXXXXX|XXXXXXXXX|9576 Middle Hills...|Glenview|   IL|  60025|\n",
       "|   21730|2013-12-05 00:00:...|         26|      CLOSED|        26|        Johnny|          Hood|XXXXXXXXX|XXXXXXXXX|9576 Middle Hills...|Glenview|   IL|  60025|\n",
       "|   26441|2014-01-05 00:00:...|         26|    COMPLETE|        26|        Johnny|          Hood|XXXXXXXXX|XXXXXXXXX|9576 Middle Hills...|Glenview|   IL|  60025|\n",
       "|   30480|2014-01-30 00:00:...|         26|     PENDING|        26|        Johnny|          Hood|XXXXXXXXX|XXXXXXXXX|9576 Middle Hills...|Glenview|   IL|  60025|\n",
       "|   34653|2014-02-23 00:00:...|         26|    COMPLETE|        26|        Johnny|          Hood|XXXXXXXXX|XXXXXXXXX|9576 Middle Hills...|Glenview|   IL|  60025|\n",
       "+--------+--------------------+-----------+------------+----------+--------------+--------------+---------+---------+--------------------+--------+-----+-------+\n",
       "only showing top 20 rows"
      ]
     },
     "execution_count": 13,
     "metadata": {},
     "output_type": "execute_result"
    }
   ],
   "source": [
    "# Performing an inner join on orders and customer table\n",
    "\n",
    "spark.sql(\"\"\"select * from orders inner join customers\n",
    "            on orders.customer_id == customers.customerid\"\"\")"
   ]
  },
  {
   "cell_type": "markdown",
   "id": "ed0e4b22",
   "metadata": {},
   "source": [
    "#### In the above case, the broadcast join didn't trigger by default as the configuration was off, hence we can see in the DAG, that there are 3 stages created. Please see the below DAG and SQL for this scenario:\n",
    "\n",
    "\n",
    "<img src=\"https://g02.itversity.com/user/itv011181/files/DAG%20-%20No%20broadcast.PNG?_xsrf=2%7Ccd202b1a%7Cd5996c4dd821676c9ea1363ad30da50f%7C1709430837\" alt=\"My Image\" width=\"600\">\n",
    "\n",
    "\n",
    "\n",
    "<img src=\"https://g02.itversity.com/user/itv011181/files/SQL%20-%20No%20broadcast.PNG?_xsrf=2%7Ccd202b1a%7Cd5996c4dd821676c9ea1363ad30da50f%7C1709430837\" alt=\"My Image\" width=\"600\">\n",
    "\n"
   ]
  },
  {
   "cell_type": "code",
   "execution_count": 14,
   "id": "2b0554f3",
   "metadata": {},
   "outputs": [],
   "source": [
    "# Now, I am enabling the default broadcast join configuration of 10MB and then performing the join operation again\n",
    "\n",
    "spark.conf.set('spark.sql.autoBroadcastJoinThreshold', '10485760b')"
   ]
  },
  {
   "cell_type": "code",
   "execution_count": 15,
   "id": "5e07cc83",
   "metadata": {},
   "outputs": [
    {
     "data": {
      "text/html": [
       "<table border='1'>\n",
       "<tr><th>order_id</th><th>order_date</th><th>customer_id</th><th>order_status</th><th>customerid</th><th>customer_fname</th><th>customer_lname</th><th>user_name</th><th>password</th><th>address</th><th>city</th><th>state</th><th>pincode</th></tr>\n",
       "<tr><td>1</td><td>2013-07-25 00:00:...</td><td>11599</td><td>CLOSED</td><td>11599</td><td>Mary</td><td>Malone</td><td>XXXXXXXXX</td><td>XXXXXXXXX</td><td>8708 Indian Horse...</td><td>Hickory</td><td>NC</td><td>28601</td></tr>\n",
       "<tr><td>2</td><td>2013-07-25 00:00:...</td><td>256</td><td>PENDING_PAYMENT</td><td>256</td><td>David</td><td>Rodriguez</td><td>XXXXXXXXX</td><td>XXXXXXXXX</td><td>7605 Tawny Horse ...</td><td>Chicago</td><td>IL</td><td>60625</td></tr>\n",
       "<tr><td>3</td><td>2013-07-25 00:00:...</td><td>12111</td><td>COMPLETE</td><td>12111</td><td>Amber</td><td>Franco</td><td>XXXXXXXXX</td><td>XXXXXXXXX</td><td>8766 Clear Prairi...</td><td>Santa Cruz</td><td>CA</td><td>95060</td></tr>\n",
       "<tr><td>4</td><td>2013-07-25 00:00:...</td><td>8827</td><td>CLOSED</td><td>8827</td><td>Brian</td><td>Wilson</td><td>XXXXXXXXX</td><td>XXXXXXXXX</td><td>8396 High Corners</td><td>San Antonio</td><td>TX</td><td>78240</td></tr>\n",
       "<tr><td>5</td><td>2013-07-25 00:00:...</td><td>11318</td><td>COMPLETE</td><td>11318</td><td>Mary</td><td>Henry</td><td>XXXXXXXXX</td><td>XXXXXXXXX</td><td>3047 Silent Ember...</td><td>Caguas</td><td>PR</td><td>725</td></tr>\n",
       "<tr><td>6</td><td>2013-07-25 00:00:...</td><td>7130</td><td>COMPLETE</td><td>7130</td><td>Alice</td><td>Smith</td><td>XXXXXXXXX</td><td>XXXXXXXXX</td><td>8852 Iron Port</td><td>Brooklyn</td><td>NY</td><td>11237</td></tr>\n",
       "<tr><td>7</td><td>2013-07-25 00:00:...</td><td>4530</td><td>COMPLETE</td><td>4530</td><td>Mary</td><td>Smith</td><td>XXXXXXXXX</td><td>XXXXXXXXX</td><td>1073 Green Leaf G...</td><td>Miami</td><td>FL</td><td>33161</td></tr>\n",
       "<tr><td>8</td><td>2013-07-25 00:00:...</td><td>2911</td><td>PROCESSING</td><td>2911</td><td>Mary</td><td>Smith</td><td>XXXXXXXXX</td><td>XXXXXXXXX</td><td>9166 Golden Necta...</td><td>Caguas</td><td>PR</td><td>725</td></tr>\n",
       "<tr><td>9</td><td>2013-07-25 00:00:...</td><td>5657</td><td>PENDING_PAYMENT</td><td>5657</td><td>Mary</td><td>James</td><td>XXXXXXXXX</td><td>XXXXXXXXX</td><td>1389 Dusty Circuit</td><td>Lakewood</td><td>OH</td><td>44107</td></tr>\n",
       "<tr><td>10</td><td>2013-07-25 00:00:...</td><td>5648</td><td>PENDING_PAYMENT</td><td>5648</td><td>Joshua</td><td>Smith</td><td>XXXXXXXXX</td><td>XXXXXXXXX</td><td>864 Iron Spring S...</td><td>Memphis</td><td>TN</td><td>38111</td></tr>\n",
       "<tr><td>11</td><td>2013-07-25 00:00:...</td><td>918</td><td>PAYMENT_REVIEW</td><td>918</td><td>Nathan</td><td>Smith</td><td>XXXXXXXXX</td><td>XXXXXXXXX</td><td>9627 Honey Trail</td><td>Caguas</td><td>PR</td><td>725</td></tr>\n",
       "<tr><td>12</td><td>2013-07-25 00:00:...</td><td>1837</td><td>CLOSED</td><td>1837</td><td>Mary</td><td>Vega</td><td>XXXXXXXXX</td><td>XXXXXXXXX</td><td>4312 Bright Corner</td><td>Caguas</td><td>PR</td><td>725</td></tr>\n",
       "<tr><td>13</td><td>2013-07-25 00:00:...</td><td>9149</td><td>PENDING_PAYMENT</td><td>9149</td><td>Ronald</td><td>Whitehead</td><td>XXXXXXXXX</td><td>XXXXXXXXX</td><td>6789 Round Robin ...</td><td>Santa Ana</td><td>CA</td><td>92705</td></tr>\n",
       "<tr><td>14</td><td>2013-07-25 00:00:...</td><td>9842</td><td>PROCESSING</td><td>9842</td><td>Mary</td><td>Smith</td><td>XXXXXXXXX</td><td>XXXXXXXXX</td><td>454 Lazy Branch F...</td><td>Caguas</td><td>PR</td><td>725</td></tr>\n",
       "<tr><td>15</td><td>2013-07-25 00:00:...</td><td>2568</td><td>COMPLETE</td><td>2568</td><td>Maria</td><td>Smith</td><td>XXXXXXXXX</td><td>XXXXXXXXX</td><td>3544 Fallen Mount</td><td>Memphis</td><td>TN</td><td>38127</td></tr>\n",
       "<tr><td>16</td><td>2013-07-25 00:00:...</td><td>7276</td><td>PENDING_PAYMENT</td><td>7276</td><td>Pamela</td><td>Smith</td><td>XXXXXXXXX</td><td>XXXXXXXXX</td><td>9243 Old Gardens</td><td>Caguas</td><td>PR</td><td>725</td></tr>\n",
       "<tr><td>17</td><td>2013-07-25 00:00:...</td><td>2667</td><td>COMPLETE</td><td>2667</td><td>Tammy</td><td>Smith</td><td>XXXXXXXXX</td><td>XXXXXXXXX</td><td>8906 Rustic Mall </td><td>Sun Valley</td><td>CA</td><td>91352</td></tr>\n",
       "<tr><td>18</td><td>2013-07-25 00:00:...</td><td>1205</td><td>CLOSED</td><td>1205</td><td>Mary</td><td>Powell</td><td>XXXXXXXXX</td><td>XXXXXXXXX</td><td>9299 Quiet Pionee...</td><td>Miami</td><td>FL</td><td>33126</td></tr>\n",
       "<tr><td>19</td><td>2013-07-25 00:00:...</td><td>9488</td><td>PENDING_PAYMENT</td><td>9488</td><td>Mary</td><td>Smith</td><td>XXXXXXXXX</td><td>XXXXXXXXX</td><td>9758 Foggy Range</td><td>Hialeah</td><td>FL</td><td>33012</td></tr>\n",
       "<tr><td>20</td><td>2013-07-25 00:00:...</td><td>9198</td><td>PROCESSING</td><td>9198</td><td>David</td><td>Kerr</td><td>XXXXXXXXX</td><td>XXXXXXXXX</td><td>7312 Crystal Will...</td><td>Bowling Green</td><td>KY</td><td>42101</td></tr>\n",
       "</table>\n",
       "only showing top 20 rows\n"
      ],
      "text/plain": [
       "+--------+--------------------+-----------+---------------+----------+--------------+--------------+---------+---------+--------------------+-------------+-----+-------+\n",
       "|order_id|          order_date|customer_id|   order_status|customerid|customer_fname|customer_lname|user_name| password|             address|         city|state|pincode|\n",
       "+--------+--------------------+-----------+---------------+----------+--------------+--------------+---------+---------+--------------------+-------------+-----+-------+\n",
       "|       1|2013-07-25 00:00:...|      11599|         CLOSED|     11599|          Mary|        Malone|XXXXXXXXX|XXXXXXXXX|8708 Indian Horse...|      Hickory|   NC|  28601|\n",
       "|       2|2013-07-25 00:00:...|        256|PENDING_PAYMENT|       256|         David|     Rodriguez|XXXXXXXXX|XXXXXXXXX|7605 Tawny Horse ...|      Chicago|   IL|  60625|\n",
       "|       3|2013-07-25 00:00:...|      12111|       COMPLETE|     12111|         Amber|        Franco|XXXXXXXXX|XXXXXXXXX|8766 Clear Prairi...|   Santa Cruz|   CA|  95060|\n",
       "|       4|2013-07-25 00:00:...|       8827|         CLOSED|      8827|         Brian|        Wilson|XXXXXXXXX|XXXXXXXXX|   8396 High Corners|  San Antonio|   TX|  78240|\n",
       "|       5|2013-07-25 00:00:...|      11318|       COMPLETE|     11318|          Mary|         Henry|XXXXXXXXX|XXXXXXXXX|3047 Silent Ember...|       Caguas|   PR|    725|\n",
       "|       6|2013-07-25 00:00:...|       7130|       COMPLETE|      7130|         Alice|         Smith|XXXXXXXXX|XXXXXXXXX|      8852 Iron Port|     Brooklyn|   NY|  11237|\n",
       "|       7|2013-07-25 00:00:...|       4530|       COMPLETE|      4530|          Mary|         Smith|XXXXXXXXX|XXXXXXXXX|1073 Green Leaf G...|        Miami|   FL|  33161|\n",
       "|       8|2013-07-25 00:00:...|       2911|     PROCESSING|      2911|          Mary|         Smith|XXXXXXXXX|XXXXXXXXX|9166 Golden Necta...|       Caguas|   PR|    725|\n",
       "|       9|2013-07-25 00:00:...|       5657|PENDING_PAYMENT|      5657|          Mary|         James|XXXXXXXXX|XXXXXXXXX|  1389 Dusty Circuit|     Lakewood|   OH|  44107|\n",
       "|      10|2013-07-25 00:00:...|       5648|PENDING_PAYMENT|      5648|        Joshua|         Smith|XXXXXXXXX|XXXXXXXXX|864 Iron Spring S...|      Memphis|   TN|  38111|\n",
       "|      11|2013-07-25 00:00:...|        918| PAYMENT_REVIEW|       918|        Nathan|         Smith|XXXXXXXXX|XXXXXXXXX|    9627 Honey Trail|       Caguas|   PR|    725|\n",
       "|      12|2013-07-25 00:00:...|       1837|         CLOSED|      1837|          Mary|          Vega|XXXXXXXXX|XXXXXXXXX|  4312 Bright Corner|       Caguas|   PR|    725|\n",
       "|      13|2013-07-25 00:00:...|       9149|PENDING_PAYMENT|      9149|        Ronald|     Whitehead|XXXXXXXXX|XXXXXXXXX|6789 Round Robin ...|    Santa Ana|   CA|  92705|\n",
       "|      14|2013-07-25 00:00:...|       9842|     PROCESSING|      9842|          Mary|         Smith|XXXXXXXXX|XXXXXXXXX|454 Lazy Branch F...|       Caguas|   PR|    725|\n",
       "|      15|2013-07-25 00:00:...|       2568|       COMPLETE|      2568|         Maria|         Smith|XXXXXXXXX|XXXXXXXXX|   3544 Fallen Mount|      Memphis|   TN|  38127|\n",
       "|      16|2013-07-25 00:00:...|       7276|PENDING_PAYMENT|      7276|        Pamela|         Smith|XXXXXXXXX|XXXXXXXXX|    9243 Old Gardens|       Caguas|   PR|    725|\n",
       "|      17|2013-07-25 00:00:...|       2667|       COMPLETE|      2667|         Tammy|         Smith|XXXXXXXXX|XXXXXXXXX|   8906 Rustic Mall |   Sun Valley|   CA|  91352|\n",
       "|      18|2013-07-25 00:00:...|       1205|         CLOSED|      1205|          Mary|        Powell|XXXXXXXXX|XXXXXXXXX|9299 Quiet Pionee...|        Miami|   FL|  33126|\n",
       "|      19|2013-07-25 00:00:...|       9488|PENDING_PAYMENT|      9488|          Mary|         Smith|XXXXXXXXX|XXXXXXXXX|    9758 Foggy Range|      Hialeah|   FL|  33012|\n",
       "|      20|2013-07-25 00:00:...|       9198|     PROCESSING|      9198|         David|          Kerr|XXXXXXXXX|XXXXXXXXX|7312 Crystal Will...|Bowling Green|   KY|  42101|\n",
       "+--------+--------------------+-----------+---------------+----------+--------------+--------------+---------+---------+--------------------+-------------+-----+-------+\n",
       "only showing top 20 rows"
      ]
     },
     "execution_count": 15,
     "metadata": {},
     "output_type": "execute_result"
    }
   ],
   "source": [
    "# Performing an inner join on orders and customer table\n",
    "\n",
    "spark.sql(\"\"\"select * from orders inner join customers\n",
    "            on orders.customer_id == customers.customerid\"\"\")"
   ]
  },
  {
   "cell_type": "markdown",
   "id": "0e1987f6",
   "metadata": {},
   "source": [
    "#### In the above case, the broadcast join was trigger by default as the configuration was re-enabled, hence we can see that the DAG and the SQL plan is straightforward and the query got executed in milliseconds:\n",
    "\n",
    "\n",
    "<img src=\"https://g02.itversity.com/user/itv011181/files/DAG%20-%20With%20broadcast.PNG?_xsrf=2%7Ccd202b1a%7Cd5996c4dd821676c9ea1363ad30da50f%7C1709430837\" alt=\"My Image\" width=\"600\">\n",
    "\n",
    "\n",
    "\n",
    "<img src=\"https://g02.itversity.com/user/itv011181/files/SQL%20-%20With%20broadcast.PNG?_xsrf=2%7Ccd202b1a%7Cd5996c4dd821676c9ea1363ad30da50f%7C1709430837\" alt=\"My Image\" width=\"600\">"
   ]
  },
  {
   "cell_type": "code",
   "execution_count": 16,
   "id": "fc40a281",
   "metadata": {},
   "outputs": [
    {
     "data": {
      "text/html": [
       "<table border='1'>\n",
       "<tr><th>order_id</th><th>order_date</th><th>customer_id</th><th>order_status</th><th>customerid</th><th>customer_fname</th><th>customer_lname</th><th>user_name</th><th>password</th><th>address</th><th>city</th><th>state</th><th>pincode</th></tr>\n",
       "<tr><td>1</td><td>2013-07-25 00:00:...</td><td>11599</td><td>CLOSED</td><td>11599</td><td>Mary</td><td>Malone</td><td>XXXXXXXXX</td><td>XXXXXXXXX</td><td>8708 Indian Horse...</td><td>Hickory</td><td>NC</td><td>28601</td></tr>\n",
       "<tr><td>2</td><td>2013-07-25 00:00:...</td><td>256</td><td>PENDING_PAYMENT</td><td>256</td><td>David</td><td>Rodriguez</td><td>XXXXXXXXX</td><td>XXXXXXXXX</td><td>7605 Tawny Horse ...</td><td>Chicago</td><td>IL</td><td>60625</td></tr>\n",
       "<tr><td>3</td><td>2013-07-25 00:00:...</td><td>12111</td><td>COMPLETE</td><td>12111</td><td>Amber</td><td>Franco</td><td>XXXXXXXXX</td><td>XXXXXXXXX</td><td>8766 Clear Prairi...</td><td>Santa Cruz</td><td>CA</td><td>95060</td></tr>\n",
       "<tr><td>4</td><td>2013-07-25 00:00:...</td><td>8827</td><td>CLOSED</td><td>8827</td><td>Brian</td><td>Wilson</td><td>XXXXXXXXX</td><td>XXXXXXXXX</td><td>8396 High Corners</td><td>San Antonio</td><td>TX</td><td>78240</td></tr>\n",
       "<tr><td>5</td><td>2013-07-25 00:00:...</td><td>11318</td><td>COMPLETE</td><td>11318</td><td>Mary</td><td>Henry</td><td>XXXXXXXXX</td><td>XXXXXXXXX</td><td>3047 Silent Ember...</td><td>Caguas</td><td>PR</td><td>725</td></tr>\n",
       "<tr><td>6</td><td>2013-07-25 00:00:...</td><td>7130</td><td>COMPLETE</td><td>7130</td><td>Alice</td><td>Smith</td><td>XXXXXXXXX</td><td>XXXXXXXXX</td><td>8852 Iron Port</td><td>Brooklyn</td><td>NY</td><td>11237</td></tr>\n",
       "<tr><td>7</td><td>2013-07-25 00:00:...</td><td>4530</td><td>COMPLETE</td><td>4530</td><td>Mary</td><td>Smith</td><td>XXXXXXXXX</td><td>XXXXXXXXX</td><td>1073 Green Leaf G...</td><td>Miami</td><td>FL</td><td>33161</td></tr>\n",
       "<tr><td>8</td><td>2013-07-25 00:00:...</td><td>2911</td><td>PROCESSING</td><td>2911</td><td>Mary</td><td>Smith</td><td>XXXXXXXXX</td><td>XXXXXXXXX</td><td>9166 Golden Necta...</td><td>Caguas</td><td>PR</td><td>725</td></tr>\n",
       "<tr><td>9</td><td>2013-07-25 00:00:...</td><td>5657</td><td>PENDING_PAYMENT</td><td>5657</td><td>Mary</td><td>James</td><td>XXXXXXXXX</td><td>XXXXXXXXX</td><td>1389 Dusty Circuit</td><td>Lakewood</td><td>OH</td><td>44107</td></tr>\n",
       "<tr><td>10</td><td>2013-07-25 00:00:...</td><td>5648</td><td>PENDING_PAYMENT</td><td>5648</td><td>Joshua</td><td>Smith</td><td>XXXXXXXXX</td><td>XXXXXXXXX</td><td>864 Iron Spring S...</td><td>Memphis</td><td>TN</td><td>38111</td></tr>\n",
       "<tr><td>11</td><td>2013-07-25 00:00:...</td><td>918</td><td>PAYMENT_REVIEW</td><td>918</td><td>Nathan</td><td>Smith</td><td>XXXXXXXXX</td><td>XXXXXXXXX</td><td>9627 Honey Trail</td><td>Caguas</td><td>PR</td><td>725</td></tr>\n",
       "<tr><td>12</td><td>2013-07-25 00:00:...</td><td>1837</td><td>CLOSED</td><td>1837</td><td>Mary</td><td>Vega</td><td>XXXXXXXXX</td><td>XXXXXXXXX</td><td>4312 Bright Corner</td><td>Caguas</td><td>PR</td><td>725</td></tr>\n",
       "<tr><td>13</td><td>2013-07-25 00:00:...</td><td>9149</td><td>PENDING_PAYMENT</td><td>9149</td><td>Ronald</td><td>Whitehead</td><td>XXXXXXXXX</td><td>XXXXXXXXX</td><td>6789 Round Robin ...</td><td>Santa Ana</td><td>CA</td><td>92705</td></tr>\n",
       "<tr><td>14</td><td>2013-07-25 00:00:...</td><td>9842</td><td>PROCESSING</td><td>9842</td><td>Mary</td><td>Smith</td><td>XXXXXXXXX</td><td>XXXXXXXXX</td><td>454 Lazy Branch F...</td><td>Caguas</td><td>PR</td><td>725</td></tr>\n",
       "<tr><td>15</td><td>2013-07-25 00:00:...</td><td>2568</td><td>COMPLETE</td><td>2568</td><td>Maria</td><td>Smith</td><td>XXXXXXXXX</td><td>XXXXXXXXX</td><td>3544 Fallen Mount</td><td>Memphis</td><td>TN</td><td>38127</td></tr>\n",
       "<tr><td>16</td><td>2013-07-25 00:00:...</td><td>7276</td><td>PENDING_PAYMENT</td><td>7276</td><td>Pamela</td><td>Smith</td><td>XXXXXXXXX</td><td>XXXXXXXXX</td><td>9243 Old Gardens</td><td>Caguas</td><td>PR</td><td>725</td></tr>\n",
       "<tr><td>17</td><td>2013-07-25 00:00:...</td><td>2667</td><td>COMPLETE</td><td>2667</td><td>Tammy</td><td>Smith</td><td>XXXXXXXXX</td><td>XXXXXXXXX</td><td>8906 Rustic Mall </td><td>Sun Valley</td><td>CA</td><td>91352</td></tr>\n",
       "<tr><td>18</td><td>2013-07-25 00:00:...</td><td>1205</td><td>CLOSED</td><td>1205</td><td>Mary</td><td>Powell</td><td>XXXXXXXXX</td><td>XXXXXXXXX</td><td>9299 Quiet Pionee...</td><td>Miami</td><td>FL</td><td>33126</td></tr>\n",
       "<tr><td>19</td><td>2013-07-25 00:00:...</td><td>9488</td><td>PENDING_PAYMENT</td><td>9488</td><td>Mary</td><td>Smith</td><td>XXXXXXXXX</td><td>XXXXXXXXX</td><td>9758 Foggy Range</td><td>Hialeah</td><td>FL</td><td>33012</td></tr>\n",
       "<tr><td>20</td><td>2013-07-25 00:00:...</td><td>9198</td><td>PROCESSING</td><td>9198</td><td>David</td><td>Kerr</td><td>XXXXXXXXX</td><td>XXXXXXXXX</td><td>7312 Crystal Will...</td><td>Bowling Green</td><td>KY</td><td>42101</td></tr>\n",
       "</table>\n",
       "only showing top 20 rows\n"
      ],
      "text/plain": [
       "+--------+--------------------+-----------+---------------+----------+--------------+--------------+---------+---------+--------------------+-------------+-----+-------+\n",
       "|order_id|          order_date|customer_id|   order_status|customerid|customer_fname|customer_lname|user_name| password|             address|         city|state|pincode|\n",
       "+--------+--------------------+-----------+---------------+----------+--------------+--------------+---------+---------+--------------------+-------------+-----+-------+\n",
       "|       1|2013-07-25 00:00:...|      11599|         CLOSED|     11599|          Mary|        Malone|XXXXXXXXX|XXXXXXXXX|8708 Indian Horse...|      Hickory|   NC|  28601|\n",
       "|       2|2013-07-25 00:00:...|        256|PENDING_PAYMENT|       256|         David|     Rodriguez|XXXXXXXXX|XXXXXXXXX|7605 Tawny Horse ...|      Chicago|   IL|  60625|\n",
       "|       3|2013-07-25 00:00:...|      12111|       COMPLETE|     12111|         Amber|        Franco|XXXXXXXXX|XXXXXXXXX|8766 Clear Prairi...|   Santa Cruz|   CA|  95060|\n",
       "|       4|2013-07-25 00:00:...|       8827|         CLOSED|      8827|         Brian|        Wilson|XXXXXXXXX|XXXXXXXXX|   8396 High Corners|  San Antonio|   TX|  78240|\n",
       "|       5|2013-07-25 00:00:...|      11318|       COMPLETE|     11318|          Mary|         Henry|XXXXXXXXX|XXXXXXXXX|3047 Silent Ember...|       Caguas|   PR|    725|\n",
       "|       6|2013-07-25 00:00:...|       7130|       COMPLETE|      7130|         Alice|         Smith|XXXXXXXXX|XXXXXXXXX|      8852 Iron Port|     Brooklyn|   NY|  11237|\n",
       "|       7|2013-07-25 00:00:...|       4530|       COMPLETE|      4530|          Mary|         Smith|XXXXXXXXX|XXXXXXXXX|1073 Green Leaf G...|        Miami|   FL|  33161|\n",
       "|       8|2013-07-25 00:00:...|       2911|     PROCESSING|      2911|          Mary|         Smith|XXXXXXXXX|XXXXXXXXX|9166 Golden Necta...|       Caguas|   PR|    725|\n",
       "|       9|2013-07-25 00:00:...|       5657|PENDING_PAYMENT|      5657|          Mary|         James|XXXXXXXXX|XXXXXXXXX|  1389 Dusty Circuit|     Lakewood|   OH|  44107|\n",
       "|      10|2013-07-25 00:00:...|       5648|PENDING_PAYMENT|      5648|        Joshua|         Smith|XXXXXXXXX|XXXXXXXXX|864 Iron Spring S...|      Memphis|   TN|  38111|\n",
       "|      11|2013-07-25 00:00:...|        918| PAYMENT_REVIEW|       918|        Nathan|         Smith|XXXXXXXXX|XXXXXXXXX|    9627 Honey Trail|       Caguas|   PR|    725|\n",
       "|      12|2013-07-25 00:00:...|       1837|         CLOSED|      1837|          Mary|          Vega|XXXXXXXXX|XXXXXXXXX|  4312 Bright Corner|       Caguas|   PR|    725|\n",
       "|      13|2013-07-25 00:00:...|       9149|PENDING_PAYMENT|      9149|        Ronald|     Whitehead|XXXXXXXXX|XXXXXXXXX|6789 Round Robin ...|    Santa Ana|   CA|  92705|\n",
       "|      14|2013-07-25 00:00:...|       9842|     PROCESSING|      9842|          Mary|         Smith|XXXXXXXXX|XXXXXXXXX|454 Lazy Branch F...|       Caguas|   PR|    725|\n",
       "|      15|2013-07-25 00:00:...|       2568|       COMPLETE|      2568|         Maria|         Smith|XXXXXXXXX|XXXXXXXXX|   3544 Fallen Mount|      Memphis|   TN|  38127|\n",
       "|      16|2013-07-25 00:00:...|       7276|PENDING_PAYMENT|      7276|        Pamela|         Smith|XXXXXXXXX|XXXXXXXXX|    9243 Old Gardens|       Caguas|   PR|    725|\n",
       "|      17|2013-07-25 00:00:...|       2667|       COMPLETE|      2667|         Tammy|         Smith|XXXXXXXXX|XXXXXXXXX|   8906 Rustic Mall |   Sun Valley|   CA|  91352|\n",
       "|      18|2013-07-25 00:00:...|       1205|         CLOSED|      1205|          Mary|        Powell|XXXXXXXXX|XXXXXXXXX|9299 Quiet Pionee...|        Miami|   FL|  33126|\n",
       "|      19|2013-07-25 00:00:...|       9488|PENDING_PAYMENT|      9488|          Mary|         Smith|XXXXXXXXX|XXXXXXXXX|    9758 Foggy Range|      Hialeah|   FL|  33012|\n",
       "|      20|2013-07-25 00:00:...|       9198|     PROCESSING|      9198|         David|          Kerr|XXXXXXXXX|XXXXXXXXX|7312 Crystal Will...|Bowling Green|   KY|  42101|\n",
       "+--------+--------------------+-----------+---------------+----------+--------------+--------------+---------+---------+--------------------+-------------+-----+-------+\n",
       "only showing top 20 rows"
      ]
     },
     "execution_count": 16,
     "metadata": {},
     "output_type": "execute_result"
    }
   ],
   "source": [
    "# Performing a left outer join on orders and customer table\n",
    "\n",
    "spark.sql(\"\"\"select * from orders left join customers\n",
    "            on orders.customer_id == customers.customerid\"\"\")"
   ]
  },
  {
   "cell_type": "code",
   "execution_count": 17,
   "id": "6a88693a",
   "metadata": {},
   "outputs": [
    {
     "data": {
      "text/html": [
       "<table border='1'>\n",
       "<tr><th>order_id</th><th>order_date</th><th>customer_id</th><th>order_status</th><th>customerid</th><th>customer_fname</th><th>customer_lname</th><th>user_name</th><th>password</th><th>address</th><th>city</th><th>state</th><th>pincode</th></tr>\n",
       "<tr><td>21730</td><td>2013-12-05 00:00:...</td><td>26</td><td>CLOSED</td><td>26</td><td>Johnny</td><td>Hood</td><td>XXXXXXXXX</td><td>XXXXXXXXX</td><td>9576 Middle Hills...</td><td>Glenview</td><td>IL</td><td>60025</td></tr>\n",
       "<tr><td>26441</td><td>2014-01-05 00:00:...</td><td>26</td><td>COMPLETE</td><td>26</td><td>Johnny</td><td>Hood</td><td>XXXXXXXXX</td><td>XXXXXXXXX</td><td>9576 Middle Hills...</td><td>Glenview</td><td>IL</td><td>60025</td></tr>\n",
       "<tr><td>30480</td><td>2014-01-30 00:00:...</td><td>26</td><td>PENDING</td><td>26</td><td>Johnny</td><td>Hood</td><td>XXXXXXXXX</td><td>XXXXXXXXX</td><td>9576 Middle Hills...</td><td>Glenview</td><td>IL</td><td>60025</td></tr>\n",
       "<tr><td>34653</td><td>2014-02-23 00:00:...</td><td>26</td><td>COMPLETE</td><td>26</td><td>Johnny</td><td>Hood</td><td>XXXXXXXXX</td><td>XXXXXXXXX</td><td>9576 Middle Hills...</td><td>Glenview</td><td>IL</td><td>60025</td></tr>\n",
       "<tr><td>64185</td><td>2014-03-28 00:00:...</td><td>26</td><td>PENDING</td><td>26</td><td>Johnny</td><td>Hood</td><td>XXXXXXXXX</td><td>XXXXXXXXX</td><td>9576 Middle Hills...</td><td>Glenview</td><td>IL</td><td>60025</td></tr>\n",
       "<tr><td>21730</td><td>2013-12-05 00:00:...</td><td>26</td><td>CLOSED</td><td>26</td><td>Johnny</td><td>Hood</td><td>XXXXXXXXX</td><td>XXXXXXXXX</td><td>9576 Middle Hills...</td><td>Glenview</td><td>IL</td><td>60025</td></tr>\n",
       "<tr><td>26441</td><td>2014-01-05 00:00:...</td><td>26</td><td>COMPLETE</td><td>26</td><td>Johnny</td><td>Hood</td><td>XXXXXXXXX</td><td>XXXXXXXXX</td><td>9576 Middle Hills...</td><td>Glenview</td><td>IL</td><td>60025</td></tr>\n",
       "<tr><td>30480</td><td>2014-01-30 00:00:...</td><td>26</td><td>PENDING</td><td>26</td><td>Johnny</td><td>Hood</td><td>XXXXXXXXX</td><td>XXXXXXXXX</td><td>9576 Middle Hills...</td><td>Glenview</td><td>IL</td><td>60025</td></tr>\n",
       "<tr><td>34653</td><td>2014-02-23 00:00:...</td><td>26</td><td>COMPLETE</td><td>26</td><td>Johnny</td><td>Hood</td><td>XXXXXXXXX</td><td>XXXXXXXXX</td><td>9576 Middle Hills...</td><td>Glenview</td><td>IL</td><td>60025</td></tr>\n",
       "<tr><td>64185</td><td>2014-03-28 00:00:...</td><td>26</td><td>PENDING</td><td>26</td><td>Johnny</td><td>Hood</td><td>XXXXXXXXX</td><td>XXXXXXXXX</td><td>9576 Middle Hills...</td><td>Glenview</td><td>IL</td><td>60025</td></tr>\n",
       "<tr><td>21730</td><td>2013-12-05 00:00:...</td><td>26</td><td>CLOSED</td><td>26</td><td>Johnny</td><td>Hood</td><td>XXXXXXXXX</td><td>XXXXXXXXX</td><td>9576 Middle Hills...</td><td>Glenview</td><td>IL</td><td>60025</td></tr>\n",
       "<tr><td>26441</td><td>2014-01-05 00:00:...</td><td>26</td><td>COMPLETE</td><td>26</td><td>Johnny</td><td>Hood</td><td>XXXXXXXXX</td><td>XXXXXXXXX</td><td>9576 Middle Hills...</td><td>Glenview</td><td>IL</td><td>60025</td></tr>\n",
       "<tr><td>30480</td><td>2014-01-30 00:00:...</td><td>26</td><td>PENDING</td><td>26</td><td>Johnny</td><td>Hood</td><td>XXXXXXXXX</td><td>XXXXXXXXX</td><td>9576 Middle Hills...</td><td>Glenview</td><td>IL</td><td>60025</td></tr>\n",
       "<tr><td>34653</td><td>2014-02-23 00:00:...</td><td>26</td><td>COMPLETE</td><td>26</td><td>Johnny</td><td>Hood</td><td>XXXXXXXXX</td><td>XXXXXXXXX</td><td>9576 Middle Hills...</td><td>Glenview</td><td>IL</td><td>60025</td></tr>\n",
       "<tr><td>64185</td><td>2014-03-28 00:00:...</td><td>26</td><td>PENDING</td><td>26</td><td>Johnny</td><td>Hood</td><td>XXXXXXXXX</td><td>XXXXXXXXX</td><td>9576 Middle Hills...</td><td>Glenview</td><td>IL</td><td>60025</td></tr>\n",
       "<tr><td>21730</td><td>2013-12-05 00:00:...</td><td>26</td><td>CLOSED</td><td>26</td><td>Johnny</td><td>Hood</td><td>XXXXXXXXX</td><td>XXXXXXXXX</td><td>9576 Middle Hills...</td><td>Glenview</td><td>IL</td><td>60025</td></tr>\n",
       "<tr><td>26441</td><td>2014-01-05 00:00:...</td><td>26</td><td>COMPLETE</td><td>26</td><td>Johnny</td><td>Hood</td><td>XXXXXXXXX</td><td>XXXXXXXXX</td><td>9576 Middle Hills...</td><td>Glenview</td><td>IL</td><td>60025</td></tr>\n",
       "<tr><td>30480</td><td>2014-01-30 00:00:...</td><td>26</td><td>PENDING</td><td>26</td><td>Johnny</td><td>Hood</td><td>XXXXXXXXX</td><td>XXXXXXXXX</td><td>9576 Middle Hills...</td><td>Glenview</td><td>IL</td><td>60025</td></tr>\n",
       "<tr><td>34653</td><td>2014-02-23 00:00:...</td><td>26</td><td>COMPLETE</td><td>26</td><td>Johnny</td><td>Hood</td><td>XXXXXXXXX</td><td>XXXXXXXXX</td><td>9576 Middle Hills...</td><td>Glenview</td><td>IL</td><td>60025</td></tr>\n",
       "<tr><td>64185</td><td>2014-03-28 00:00:...</td><td>26</td><td>PENDING</td><td>26</td><td>Johnny</td><td>Hood</td><td>XXXXXXXXX</td><td>XXXXXXXXX</td><td>9576 Middle Hills...</td><td>Glenview</td><td>IL</td><td>60025</td></tr>\n",
       "</table>\n",
       "only showing top 20 rows\n"
      ],
      "text/plain": [
       "+--------+--------------------+-----------+------------+----------+--------------+--------------+---------+---------+--------------------+--------+-----+-------+\n",
       "|order_id|          order_date|customer_id|order_status|customerid|customer_fname|customer_lname|user_name| password|             address|    city|state|pincode|\n",
       "+--------+--------------------+-----------+------------+----------+--------------+--------------+---------+---------+--------------------+--------+-----+-------+\n",
       "|   64185|2014-03-28 00:00:...|         26|     PENDING|        26|        Johnny|          Hood|XXXXXXXXX|XXXXXXXXX|9576 Middle Hills...|Glenview|   IL|  60025|\n",
       "|   21730|2013-12-05 00:00:...|         26|      CLOSED|        26|        Johnny|          Hood|XXXXXXXXX|XXXXXXXXX|9576 Middle Hills...|Glenview|   IL|  60025|\n",
       "|   26441|2014-01-05 00:00:...|         26|    COMPLETE|        26|        Johnny|          Hood|XXXXXXXXX|XXXXXXXXX|9576 Middle Hills...|Glenview|   IL|  60025|\n",
       "|   30480|2014-01-30 00:00:...|         26|     PENDING|        26|        Johnny|          Hood|XXXXXXXXX|XXXXXXXXX|9576 Middle Hills...|Glenview|   IL|  60025|\n",
       "|   34653|2014-02-23 00:00:...|         26|    COMPLETE|        26|        Johnny|          Hood|XXXXXXXXX|XXXXXXXXX|9576 Middle Hills...|Glenview|   IL|  60025|\n",
       "|   64185|2014-03-28 00:00:...|         26|     PENDING|        26|        Johnny|          Hood|XXXXXXXXX|XXXXXXXXX|9576 Middle Hills...|Glenview|   IL|  60025|\n",
       "|   21730|2013-12-05 00:00:...|         26|      CLOSED|        26|        Johnny|          Hood|XXXXXXXXX|XXXXXXXXX|9576 Middle Hills...|Glenview|   IL|  60025|\n",
       "|   26441|2014-01-05 00:00:...|         26|    COMPLETE|        26|        Johnny|          Hood|XXXXXXXXX|XXXXXXXXX|9576 Middle Hills...|Glenview|   IL|  60025|\n",
       "|   30480|2014-01-30 00:00:...|         26|     PENDING|        26|        Johnny|          Hood|XXXXXXXXX|XXXXXXXXX|9576 Middle Hills...|Glenview|   IL|  60025|\n",
       "|   34653|2014-02-23 00:00:...|         26|    COMPLETE|        26|        Johnny|          Hood|XXXXXXXXX|XXXXXXXXX|9576 Middle Hills...|Glenview|   IL|  60025|\n",
       "|   64185|2014-03-28 00:00:...|         26|     PENDING|        26|        Johnny|          Hood|XXXXXXXXX|XXXXXXXXX|9576 Middle Hills...|Glenview|   IL|  60025|\n",
       "|   21730|2013-12-05 00:00:...|         26|      CLOSED|        26|        Johnny|          Hood|XXXXXXXXX|XXXXXXXXX|9576 Middle Hills...|Glenview|   IL|  60025|\n",
       "|   26441|2014-01-05 00:00:...|         26|    COMPLETE|        26|        Johnny|          Hood|XXXXXXXXX|XXXXXXXXX|9576 Middle Hills...|Glenview|   IL|  60025|\n",
       "|   30480|2014-01-30 00:00:...|         26|     PENDING|        26|        Johnny|          Hood|XXXXXXXXX|XXXXXXXXX|9576 Middle Hills...|Glenview|   IL|  60025|\n",
       "|   34653|2014-02-23 00:00:...|         26|    COMPLETE|        26|        Johnny|          Hood|XXXXXXXXX|XXXXXXXXX|9576 Middle Hills...|Glenview|   IL|  60025|\n",
       "|   64185|2014-03-28 00:00:...|         26|     PENDING|        26|        Johnny|          Hood|XXXXXXXXX|XXXXXXXXX|9576 Middle Hills...|Glenview|   IL|  60025|\n",
       "|   21730|2013-12-05 00:00:...|         26|      CLOSED|        26|        Johnny|          Hood|XXXXXXXXX|XXXXXXXXX|9576 Middle Hills...|Glenview|   IL|  60025|\n",
       "|   26441|2014-01-05 00:00:...|         26|    COMPLETE|        26|        Johnny|          Hood|XXXXXXXXX|XXXXXXXXX|9576 Middle Hills...|Glenview|   IL|  60025|\n",
       "|   30480|2014-01-30 00:00:...|         26|     PENDING|        26|        Johnny|          Hood|XXXXXXXXX|XXXXXXXXX|9576 Middle Hills...|Glenview|   IL|  60025|\n",
       "|   34653|2014-02-23 00:00:...|         26|    COMPLETE|        26|        Johnny|          Hood|XXXXXXXXX|XXXXXXXXX|9576 Middle Hills...|Glenview|   IL|  60025|\n",
       "+--------+--------------------+-----------+------------+----------+--------------+--------------+---------+---------+--------------------+--------+-----+-------+\n",
       "only showing top 20 rows"
      ]
     },
     "execution_count": 17,
     "metadata": {},
     "output_type": "execute_result"
    }
   ],
   "source": [
    "# Performing a right outer join on orders and customer table\n",
    "\n",
    "spark.sql(\"\"\"select * from orders right join customers\n",
    "            on orders.customer_id == customers.customerid\"\"\")"
   ]
  },
  {
   "cell_type": "code",
   "execution_count": 18,
   "id": "aba4b01f",
   "metadata": {},
   "outputs": [
    {
     "data": {
      "text/html": [
       "<table border='1'>\n",
       "<tr><th>order_id</th><th>order_date</th><th>customer_id</th><th>order_status</th><th>customerid</th><th>customer_fname</th><th>customer_lname</th><th>user_name</th><th>password</th><th>address</th><th>city</th><th>state</th><th>pincode</th></tr>\n",
       "<tr><td>64185</td><td>2014-03-28 00:00:...</td><td>26</td><td>PENDING</td><td>26</td><td>Johnny</td><td>Hood</td><td>XXXXXXXXX</td><td>XXXXXXXXX</td><td>9576 Middle Hills...</td><td>Glenview</td><td>IL</td><td>60025</td></tr>\n",
       "<tr><td>21730</td><td>2013-12-05 00:00:...</td><td>26</td><td>CLOSED</td><td>26</td><td>Johnny</td><td>Hood</td><td>XXXXXXXXX</td><td>XXXXXXXXX</td><td>9576 Middle Hills...</td><td>Glenview</td><td>IL</td><td>60025</td></tr>\n",
       "<tr><td>26441</td><td>2014-01-05 00:00:...</td><td>26</td><td>COMPLETE</td><td>26</td><td>Johnny</td><td>Hood</td><td>XXXXXXXXX</td><td>XXXXXXXXX</td><td>9576 Middle Hills...</td><td>Glenview</td><td>IL</td><td>60025</td></tr>\n",
       "<tr><td>30480</td><td>2014-01-30 00:00:...</td><td>26</td><td>PENDING</td><td>26</td><td>Johnny</td><td>Hood</td><td>XXXXXXXXX</td><td>XXXXXXXXX</td><td>9576 Middle Hills...</td><td>Glenview</td><td>IL</td><td>60025</td></tr>\n",
       "<tr><td>34653</td><td>2014-02-23 00:00:...</td><td>26</td><td>COMPLETE</td><td>26</td><td>Johnny</td><td>Hood</td><td>XXXXXXXXX</td><td>XXXXXXXXX</td><td>9576 Middle Hills...</td><td>Glenview</td><td>IL</td><td>60025</td></tr>\n",
       "<tr><td>64185</td><td>2014-03-28 00:00:...</td><td>26</td><td>PENDING</td><td>26</td><td>Johnny</td><td>Hood</td><td>XXXXXXXXX</td><td>XXXXXXXXX</td><td>9576 Middle Hills...</td><td>Glenview</td><td>IL</td><td>60025</td></tr>\n",
       "<tr><td>21730</td><td>2013-12-05 00:00:...</td><td>26</td><td>CLOSED</td><td>26</td><td>Johnny</td><td>Hood</td><td>XXXXXXXXX</td><td>XXXXXXXXX</td><td>9576 Middle Hills...</td><td>Glenview</td><td>IL</td><td>60025</td></tr>\n",
       "<tr><td>26441</td><td>2014-01-05 00:00:...</td><td>26</td><td>COMPLETE</td><td>26</td><td>Johnny</td><td>Hood</td><td>XXXXXXXXX</td><td>XXXXXXXXX</td><td>9576 Middle Hills...</td><td>Glenview</td><td>IL</td><td>60025</td></tr>\n",
       "<tr><td>30480</td><td>2014-01-30 00:00:...</td><td>26</td><td>PENDING</td><td>26</td><td>Johnny</td><td>Hood</td><td>XXXXXXXXX</td><td>XXXXXXXXX</td><td>9576 Middle Hills...</td><td>Glenview</td><td>IL</td><td>60025</td></tr>\n",
       "<tr><td>34653</td><td>2014-02-23 00:00:...</td><td>26</td><td>COMPLETE</td><td>26</td><td>Johnny</td><td>Hood</td><td>XXXXXXXXX</td><td>XXXXXXXXX</td><td>9576 Middle Hills...</td><td>Glenview</td><td>IL</td><td>60025</td></tr>\n",
       "<tr><td>64185</td><td>2014-03-28 00:00:...</td><td>26</td><td>PENDING</td><td>26</td><td>Johnny</td><td>Hood</td><td>XXXXXXXXX</td><td>XXXXXXXXX</td><td>9576 Middle Hills...</td><td>Glenview</td><td>IL</td><td>60025</td></tr>\n",
       "<tr><td>21730</td><td>2013-12-05 00:00:...</td><td>26</td><td>CLOSED</td><td>26</td><td>Johnny</td><td>Hood</td><td>XXXXXXXXX</td><td>XXXXXXXXX</td><td>9576 Middle Hills...</td><td>Glenview</td><td>IL</td><td>60025</td></tr>\n",
       "<tr><td>26441</td><td>2014-01-05 00:00:...</td><td>26</td><td>COMPLETE</td><td>26</td><td>Johnny</td><td>Hood</td><td>XXXXXXXXX</td><td>XXXXXXXXX</td><td>9576 Middle Hills...</td><td>Glenview</td><td>IL</td><td>60025</td></tr>\n",
       "<tr><td>30480</td><td>2014-01-30 00:00:...</td><td>26</td><td>PENDING</td><td>26</td><td>Johnny</td><td>Hood</td><td>XXXXXXXXX</td><td>XXXXXXXXX</td><td>9576 Middle Hills...</td><td>Glenview</td><td>IL</td><td>60025</td></tr>\n",
       "<tr><td>34653</td><td>2014-02-23 00:00:...</td><td>26</td><td>COMPLETE</td><td>26</td><td>Johnny</td><td>Hood</td><td>XXXXXXXXX</td><td>XXXXXXXXX</td><td>9576 Middle Hills...</td><td>Glenview</td><td>IL</td><td>60025</td></tr>\n",
       "<tr><td>64185</td><td>2014-03-28 00:00:...</td><td>26</td><td>PENDING</td><td>26</td><td>Johnny</td><td>Hood</td><td>XXXXXXXXX</td><td>XXXXXXXXX</td><td>9576 Middle Hills...</td><td>Glenview</td><td>IL</td><td>60025</td></tr>\n",
       "<tr><td>21730</td><td>2013-12-05 00:00:...</td><td>26</td><td>CLOSED</td><td>26</td><td>Johnny</td><td>Hood</td><td>XXXXXXXXX</td><td>XXXXXXXXX</td><td>9576 Middle Hills...</td><td>Glenview</td><td>IL</td><td>60025</td></tr>\n",
       "<tr><td>26441</td><td>2014-01-05 00:00:...</td><td>26</td><td>COMPLETE</td><td>26</td><td>Johnny</td><td>Hood</td><td>XXXXXXXXX</td><td>XXXXXXXXX</td><td>9576 Middle Hills...</td><td>Glenview</td><td>IL</td><td>60025</td></tr>\n",
       "<tr><td>30480</td><td>2014-01-30 00:00:...</td><td>26</td><td>PENDING</td><td>26</td><td>Johnny</td><td>Hood</td><td>XXXXXXXXX</td><td>XXXXXXXXX</td><td>9576 Middle Hills...</td><td>Glenview</td><td>IL</td><td>60025</td></tr>\n",
       "<tr><td>34653</td><td>2014-02-23 00:00:...</td><td>26</td><td>COMPLETE</td><td>26</td><td>Johnny</td><td>Hood</td><td>XXXXXXXXX</td><td>XXXXXXXXX</td><td>9576 Middle Hills...</td><td>Glenview</td><td>IL</td><td>60025</td></tr>\n",
       "</table>\n",
       "only showing top 20 rows\n"
      ],
      "text/plain": [
       "+--------+--------------------+-----------+------------+----------+--------------+--------------+---------+---------+--------------------+--------+-----+-------+\n",
       "|order_id|          order_date|customer_id|order_status|customerid|customer_fname|customer_lname|user_name| password|             address|    city|state|pincode|\n",
       "+--------+--------------------+-----------+------------+----------+--------------+--------------+---------+---------+--------------------+--------+-----+-------+\n",
       "|   64185|2014-03-28 00:00:...|         26|     PENDING|        26|        Johnny|          Hood|XXXXXXXXX|XXXXXXXXX|9576 Middle Hills...|Glenview|   IL|  60025|\n",
       "|   21730|2013-12-05 00:00:...|         26|      CLOSED|        26|        Johnny|          Hood|XXXXXXXXX|XXXXXXXXX|9576 Middle Hills...|Glenview|   IL|  60025|\n",
       "|   26441|2014-01-05 00:00:...|         26|    COMPLETE|        26|        Johnny|          Hood|XXXXXXXXX|XXXXXXXXX|9576 Middle Hills...|Glenview|   IL|  60025|\n",
       "|   30480|2014-01-30 00:00:...|         26|     PENDING|        26|        Johnny|          Hood|XXXXXXXXX|XXXXXXXXX|9576 Middle Hills...|Glenview|   IL|  60025|\n",
       "|   34653|2014-02-23 00:00:...|         26|    COMPLETE|        26|        Johnny|          Hood|XXXXXXXXX|XXXXXXXXX|9576 Middle Hills...|Glenview|   IL|  60025|\n",
       "|   64185|2014-03-28 00:00:...|         26|     PENDING|        26|        Johnny|          Hood|XXXXXXXXX|XXXXXXXXX|9576 Middle Hills...|Glenview|   IL|  60025|\n",
       "|   21730|2013-12-05 00:00:...|         26|      CLOSED|        26|        Johnny|          Hood|XXXXXXXXX|XXXXXXXXX|9576 Middle Hills...|Glenview|   IL|  60025|\n",
       "|   26441|2014-01-05 00:00:...|         26|    COMPLETE|        26|        Johnny|          Hood|XXXXXXXXX|XXXXXXXXX|9576 Middle Hills...|Glenview|   IL|  60025|\n",
       "|   30480|2014-01-30 00:00:...|         26|     PENDING|        26|        Johnny|          Hood|XXXXXXXXX|XXXXXXXXX|9576 Middle Hills...|Glenview|   IL|  60025|\n",
       "|   34653|2014-02-23 00:00:...|         26|    COMPLETE|        26|        Johnny|          Hood|XXXXXXXXX|XXXXXXXXX|9576 Middle Hills...|Glenview|   IL|  60025|\n",
       "|   64185|2014-03-28 00:00:...|         26|     PENDING|        26|        Johnny|          Hood|XXXXXXXXX|XXXXXXXXX|9576 Middle Hills...|Glenview|   IL|  60025|\n",
       "|   21730|2013-12-05 00:00:...|         26|      CLOSED|        26|        Johnny|          Hood|XXXXXXXXX|XXXXXXXXX|9576 Middle Hills...|Glenview|   IL|  60025|\n",
       "|   26441|2014-01-05 00:00:...|         26|    COMPLETE|        26|        Johnny|          Hood|XXXXXXXXX|XXXXXXXXX|9576 Middle Hills...|Glenview|   IL|  60025|\n",
       "|   30480|2014-01-30 00:00:...|         26|     PENDING|        26|        Johnny|          Hood|XXXXXXXXX|XXXXXXXXX|9576 Middle Hills...|Glenview|   IL|  60025|\n",
       "|   34653|2014-02-23 00:00:...|         26|    COMPLETE|        26|        Johnny|          Hood|XXXXXXXXX|XXXXXXXXX|9576 Middle Hills...|Glenview|   IL|  60025|\n",
       "|   64185|2014-03-28 00:00:...|         26|     PENDING|        26|        Johnny|          Hood|XXXXXXXXX|XXXXXXXXX|9576 Middle Hills...|Glenview|   IL|  60025|\n",
       "|   21730|2013-12-05 00:00:...|         26|      CLOSED|        26|        Johnny|          Hood|XXXXXXXXX|XXXXXXXXX|9576 Middle Hills...|Glenview|   IL|  60025|\n",
       "|   26441|2014-01-05 00:00:...|         26|    COMPLETE|        26|        Johnny|          Hood|XXXXXXXXX|XXXXXXXXX|9576 Middle Hills...|Glenview|   IL|  60025|\n",
       "|   30480|2014-01-30 00:00:...|         26|     PENDING|        26|        Johnny|          Hood|XXXXXXXXX|XXXXXXXXX|9576 Middle Hills...|Glenview|   IL|  60025|\n",
       "|   34653|2014-02-23 00:00:...|         26|    COMPLETE|        26|        Johnny|          Hood|XXXXXXXXX|XXXXXXXXX|9576 Middle Hills...|Glenview|   IL|  60025|\n",
       "+--------+--------------------+-----------+------------+----------+--------------+--------------+---------+---------+--------------------+--------+-----+-------+\n",
       "only showing top 20 rows"
      ]
     },
     "execution_count": 18,
     "metadata": {},
     "output_type": "execute_result"
    }
   ],
   "source": [
    "# Performing a left outer join on orders and customer table\n",
    "\n",
    "spark.sql(\"\"\"select * from orders full join customers\n",
    "            on orders.customer_id == customers.customerid\"\"\")"
   ]
  },
  {
   "cell_type": "markdown",
   "id": "419015de",
   "metadata": {},
   "source": [
    "### In this scenario, broadcast join is only possible in case of left outer join and not right outer join and full outer join because of the below reasons:\n",
    "\n",
    "- Consider orders is our left table and customer is our right table\n",
    "- In case of left outer join we consider all records from the left table and just matching ones from the right table. Now, since customer is a small table, and after performing left outer join, we are getting all records from the big table i.e., orders, there won't be any NULL entry after join operation is performed so broadcast join will come into picture.\n",
    "- In case of right outer join we consider all records from the right table and just matching ones from the left table. Now, since customer is a small table, and after performing right outer join, we are getting all records from customers table but, there will be NULL's in orders table so broadcast join will not come into picture here."
   ]
  },
  {
   "cell_type": "code",
   "execution_count": 19,
   "id": "55facd8e",
   "metadata": {},
   "outputs": [
    {
     "data": {
      "text/html": [
       "<table border='1'>\n",
       "<tr><th>order_id</th><th>order_date</th><th>customer_id</th><th>order_status</th><th>customerid</th><th>customer_fname</th><th>customer_lname</th><th>user_name</th><th>password</th><th>address</th><th>city</th><th>state</th><th>pincode</th></tr>\n",
       "</table>\n"
      ],
      "text/plain": [
       "+--------+----------+-----------+------------+----------+--------------+--------------+---------+--------+-------+----+-----+-------+\n",
       "|order_id|order_date|customer_id|order_status|customerid|customer_fname|customer_lname|user_name|password|address|city|state|pincode|\n",
       "+--------+----------+-----------+------------+----------+--------------+--------------+---------+--------+-------+----+-----+-------+\n",
       "+--------+----------+-----------+------------+----------+--------------+--------------+---------+--------+-------+----+-----+-------+"
      ]
     },
     "execution_count": 19,
     "metadata": {},
     "output_type": "execute_result"
    }
   ],
   "source": [
    "spark.sql(\"\"\"select * from orders left join customers\n",
    "            on orders.customer_id == customers.customerid\n",
    "            where customers.customerid is NULL\"\"\")"
   ]
  },
  {
   "cell_type": "code",
   "execution_count": 20,
   "id": "722d2ba7",
   "metadata": {},
   "outputs": [
    {
     "data": {
      "text/html": [
       "<table border='1'>\n",
       "<tr><th>order_id</th><th>order_date</th><th>customer_id</th><th>order_status</th><th>customerid</th><th>customer_fname</th><th>customer_lname</th><th>user_name</th><th>password</th><th>address</th><th>city</th><th>state</th><th>pincode</th></tr>\n",
       "<tr><td>null</td><td>null</td><td>null</td><td>null</td><td>10913</td><td>Mary</td><td>Williams</td><td>XXXXXXXXX</td><td>XXXXXXXXX</td><td>9113 Grand Hills ...</td><td>San Jose</td><td>CA</td><td>95123</td></tr>\n",
       "<tr><td>null</td><td>null</td><td>null</td><td>null</td><td>8243</td><td>Gary</td><td>Walker</td><td>XXXXXXXXX</td><td>XXXXXXXXX</td><td>2447 Stony Barn S...</td><td>New York</td><td>NY</td><td>10128</td></tr>\n",
       "<tr><td>null</td><td>null</td><td>null</td><td>null</td><td>10330</td><td>Mary</td><td>Smith</td><td>XXXXXXXXX</td><td>XXXXXXXXX</td><td>3410 Lazy Shadow ...</td><td>Hamilton</td><td>OH</td><td>45013</td></tr>\n",
       "<tr><td>null</td><td>null</td><td>null</td><td>null</td><td>6072</td><td>Stephen</td><td>Smith</td><td>XXXXXXXXX</td><td>XXXXXXXXX</td><td>849 Noble Apple P...</td><td>Malden</td><td>MA</td><td>2148</td></tr>\n",
       "<tr><td>null</td><td>null</td><td>null</td><td>null</td><td>8343</td><td>Mary</td><td>Bolton</td><td>XXXXXXXXX</td><td>XXXXXXXXX</td><td>7302 Sunny Valley</td><td>Caguas</td><td>PR</td><td>725</td></tr>\n",
       "<tr><td>null</td><td>null</td><td>null</td><td>null</td><td>8575</td><td>Mary</td><td>Mueller</td><td>XXXXXXXXX</td><td>XXXXXXXXX</td><td>9714 Emerald Bear...</td><td>Caguas</td><td>PR</td><td>725</td></tr>\n",
       "<tr><td>null</td><td>null</td><td>null</td><td>null</td><td>10060</td><td>Mary</td><td>Shaw</td><td>XXXXXXXXX</td><td>XXXXXXXXX</td><td>4645 Fallen Timbe...</td><td>Caguas</td><td>PR</td><td>725</td></tr>\n",
       "<tr><td>null</td><td>null</td><td>null</td><td>null</td><td>12175</td><td>Amanda</td><td>Smith</td><td>XXXXXXXXX</td><td>XXXXXXXXX</td><td>3729 Cinder Grove...</td><td>Tonawanda</td><td>NY</td><td>14150</td></tr>\n",
       "<tr><td>null</td><td>null</td><td>null</td><td>null</td><td>9060</td><td>Matthew</td><td>Patel</td><td>XXXXXXXXX</td><td>XXXXXXXXX</td><td>7190 Silver Horse...</td><td>Henderson</td><td>NV</td><td>89014</td></tr>\n",
       "<tr><td>null</td><td>null</td><td>null</td><td>null</td><td>7552</td><td>Carl</td><td>Smith</td><td>XXXXXXXXX</td><td>XXXXXXXXX</td><td>9966 Cinder Loop</td><td>Howell</td><td>MI</td><td>48843</td></tr>\n",
       "<tr><td>null</td><td>null</td><td>null</td><td>null</td><td>6613</td><td>Ashley</td><td>Smith</td><td>XXXXXXXXX</td><td>XXXXXXXXX</td><td>9847 Dusty Horse ...</td><td>Caguas</td><td>PR</td><td>725</td></tr>\n",
       "<tr><td>null</td><td>null</td><td>null</td><td>null</td><td>219</td><td>Mary</td><td>Harrell</td><td>XXXXXXXXX</td><td>XXXXXXXXX</td><td>9016 Foggy Robin ...</td><td>Denver</td><td>CO</td><td>80219</td></tr>\n",
       "<tr><td>null</td><td>null</td><td>null</td><td>null</td><td>1808</td><td>Albert</td><td>Ellison</td><td>XXXXXXXXX</td><td>XXXXXXXXX</td><td>9795 Heather Wynd</td><td>Billings</td><td>MT</td><td>59102</td></tr>\n",
       "<tr><td>null</td><td>null</td><td>null</td><td>null</td><td>7011</td><td>Kevin</td><td>Smith</td><td>XXXXXXXXX</td><td>XXXXXXXXX</td><td>1915 Thunder Hick...</td><td>Wyandotte</td><td>MI</td><td>48192</td></tr>\n",
       "<tr><td>null</td><td>null</td><td>null</td><td>null</td><td>1187</td><td>Dorothy</td><td>Vazquez</td><td>XXXXXXXXX</td><td>XXXXXXXXX</td><td>363 Green Goose Run</td><td>Danbury</td><td>CT</td><td>6810</td></tr>\n",
       "<tr><td>null</td><td>null</td><td>null</td><td>null</td><td>339</td><td>Mary</td><td>Greene</td><td>XXXXXXXXX</td><td>XXXXXXXXX</td><td>4271 Hazy Close</td><td>Long Beach</td><td>CA</td><td>90805</td></tr>\n",
       "<tr><td>null</td><td>null</td><td>null</td><td>null</td><td>8778</td><td>Mary</td><td>Smith</td><td>XXXXXXXXX</td><td>XXXXXXXXX</td><td>4015 Tawny Rise C...</td><td>Caguas</td><td>PR</td><td>725</td></tr>\n",
       "<tr><td>null</td><td>null</td><td>null</td><td>null</td><td>1481</td><td>Grace</td><td>Smith</td><td>XXXXXXXXX</td><td>XXXXXXXXX</td><td>2171 Clear Lake Isle</td><td>Caguas</td><td>PR</td><td>725</td></tr>\n",
       "<tr><td>null</td><td>null</td><td>null</td><td>null</td><td>12392</td><td>Alan</td><td>Wolf</td><td>XXXXXXXXX</td><td>XXXXXXXXX</td><td>6470 Fallen Barn ...</td><td>Santa Ana</td><td>CA</td><td>92704</td></tr>\n",
       "<tr><td>null</td><td>null</td><td>null</td><td>null</td><td>4927</td><td>Carolyn</td><td>Green</td><td>XXXXXXXXX</td><td>XXXXXXXXX</td><td>7550 Sleepy View ...</td><td>Caguas</td><td>PR</td><td>725</td></tr>\n",
       "</table>\n",
       "only showing top 20 rows\n"
      ],
      "text/plain": [
       "+--------+----------+-----------+------------+----------+--------------+--------------+---------+---------+--------------------+----------+-----+-------+\n",
       "|order_id|order_date|customer_id|order_status|customerid|customer_fname|customer_lname|user_name| password|             address|      city|state|pincode|\n",
       "+--------+----------+-----------+------------+----------+--------------+--------------+---------+---------+--------------------+----------+-----+-------+\n",
       "|    null|      null|       null|        null|     10913|          Mary|      Williams|XXXXXXXXX|XXXXXXXXX|9113 Grand Hills ...|  San Jose|   CA|  95123|\n",
       "|    null|      null|       null|        null|      8243|          Gary|        Walker|XXXXXXXXX|XXXXXXXXX|2447 Stony Barn S...|  New York|   NY|  10128|\n",
       "|    null|      null|       null|        null|     10330|          Mary|         Smith|XXXXXXXXX|XXXXXXXXX|3410 Lazy Shadow ...|  Hamilton|   OH|  45013|\n",
       "|    null|      null|       null|        null|      6072|       Stephen|         Smith|XXXXXXXXX|XXXXXXXXX|849 Noble Apple P...|    Malden|   MA|   2148|\n",
       "|    null|      null|       null|        null|      8343|          Mary|        Bolton|XXXXXXXXX|XXXXXXXXX|   7302 Sunny Valley|    Caguas|   PR|    725|\n",
       "|    null|      null|       null|        null|      8575|          Mary|       Mueller|XXXXXXXXX|XXXXXXXXX|9714 Emerald Bear...|    Caguas|   PR|    725|\n",
       "|    null|      null|       null|        null|     10060|          Mary|          Shaw|XXXXXXXXX|XXXXXXXXX|4645 Fallen Timbe...|    Caguas|   PR|    725|\n",
       "|    null|      null|       null|        null|     12175|        Amanda|         Smith|XXXXXXXXX|XXXXXXXXX|3729 Cinder Grove...| Tonawanda|   NY|  14150|\n",
       "|    null|      null|       null|        null|      9060|       Matthew|         Patel|XXXXXXXXX|XXXXXXXXX|7190 Silver Horse...| Henderson|   NV|  89014|\n",
       "|    null|      null|       null|        null|      7552|          Carl|         Smith|XXXXXXXXX|XXXXXXXXX|    9966 Cinder Loop|    Howell|   MI|  48843|\n",
       "|    null|      null|       null|        null|      6613|        Ashley|         Smith|XXXXXXXXX|XXXXXXXXX|9847 Dusty Horse ...|    Caguas|   PR|    725|\n",
       "|    null|      null|       null|        null|       219|          Mary|       Harrell|XXXXXXXXX|XXXXXXXXX|9016 Foggy Robin ...|    Denver|   CO|  80219|\n",
       "|    null|      null|       null|        null|      1808|        Albert|       Ellison|XXXXXXXXX|XXXXXXXXX|   9795 Heather Wynd|  Billings|   MT|  59102|\n",
       "|    null|      null|       null|        null|      7011|         Kevin|         Smith|XXXXXXXXX|XXXXXXXXX|1915 Thunder Hick...| Wyandotte|   MI|  48192|\n",
       "|    null|      null|       null|        null|      1187|       Dorothy|       Vazquez|XXXXXXXXX|XXXXXXXXX| 363 Green Goose Run|   Danbury|   CT|   6810|\n",
       "|    null|      null|       null|        null|       339|          Mary|        Greene|XXXXXXXXX|XXXXXXXXX|     4271 Hazy Close|Long Beach|   CA|  90805|\n",
       "|    null|      null|       null|        null|      8778|          Mary|         Smith|XXXXXXXXX|XXXXXXXXX|4015 Tawny Rise C...|    Caguas|   PR|    725|\n",
       "|    null|      null|       null|        null|      1481|         Grace|         Smith|XXXXXXXXX|XXXXXXXXX|2171 Clear Lake Isle|    Caguas|   PR|    725|\n",
       "|    null|      null|       null|        null|     12392|          Alan|          Wolf|XXXXXXXXX|XXXXXXXXX|6470 Fallen Barn ...| Santa Ana|   CA|  92704|\n",
       "|    null|      null|       null|        null|      4927|       Carolyn|         Green|XXXXXXXXX|XXXXXXXXX|7550 Sleepy View ...|    Caguas|   PR|    725|\n",
       "+--------+----------+-----------+------------+----------+--------------+--------------+---------+---------+--------------------+----------+-----+-------+\n",
       "only showing top 20 rows"
      ]
     },
     "execution_count": 20,
     "metadata": {},
     "output_type": "execute_result"
    }
   ],
   "source": [
    "spark.sql(\"\"\"select * from orders right join customers\n",
    "            on orders.customer_id == customers.customerid\n",
    "            where orders.customer_id is NULL\"\"\")"
   ]
  },
  {
   "cell_type": "code",
   "execution_count": 21,
   "id": "b380eba4",
   "metadata": {},
   "outputs": [],
   "source": [
    "spark.stop()"
   ]
  }
 ],
 "metadata": {
  "kernelspec": {
   "display_name": "Pyspark 3",
   "language": "python",
   "name": "pyspark3"
  },
  "language_info": {
   "codemirror_mode": {
    "name": "ipython",
    "version": 3
   },
   "file_extension": ".py",
   "mimetype": "text/x-python",
   "name": "python",
   "nbconvert_exporter": "python",
   "pygments_lexer": "ipython3",
   "version": "3.6.12"
  }
 },
 "nbformat": 4,
 "nbformat_minor": 5
}
